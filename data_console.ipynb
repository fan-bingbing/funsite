{
 "cells": [
  {
   "cell_type": "code",
   "execution_count": 11,
   "metadata": {},
   "outputs": [],
   "source": [
    "import sqlite3\n",
    "conn = sqlite3.connect('db.sqlite3')\n"
   ]
  },
  {
   "cell_type": "code",
   "execution_count": 3,
   "metadata": {
    "scrolled": true
   },
   "outputs": [
    {
     "name": "stdout",
     "output_type": "stream",
     "text": [
      "('Centre_frequency', '459.075', 'MHz')\n",
      "('Span_frequency', '300', 'Hz')\n",
      "('RBW', '10', 'Hz')\n",
      "('VBW', '30', 'Hz')\n",
      "('RF_level', '50', 'NULL')\n",
      "('Attenuation', '35', 'NULL')\n",
      "('RefLev_offset', '30.3', 'NULL')\n",
      "('Trace_peak', 'DET POS', 'NULL')\n",
      "('Transducer1', 'HSA029914302', 'NULL')\n",
      "('Trans1_ON?', 'ON', 'NULL')\n",
      "('Transducer2', 'PE7388-30-30DB', 'NULL')\n",
      "('Trans2_ON?', 'OFF', 'NULL')\n",
      "('Transducer3', 'NHP-700', 'NULL')\n",
      "('Trans3_ON?', 'OFF', 'NULL')\n",
      "('Limit_line_1', 'ASNZS4365_CONSPUR_TX', 'NULL')\n",
      "('Limit_line_1_ON?', 'OFF', 'NULL')\n",
      "('Limit_line_2', 'ASNZS4295_CONSPUR_TX', 'NULL')\n",
      "('Limit_line_2_ON?', 'OFF', 'NULL')\n",
      "('Sweep_points', '10001', 'NULL')\n"
     ]
    }
   ],
   "source": [
    "for row in conn.execute(\"select parameter, content, unit from manual_fep\"):\n",
    "    print(row)"
   ]
  },
  {
   "cell_type": "code",
   "execution_count": 14,
   "metadata": {},
   "outputs": [
    {
     "data": {
      "text/plain": [
       "<sqlite3.Cursor at 0x1c70aee2ce0>"
      ]
     },
     "execution_count": 14,
     "metadata": {},
     "output_type": "execute_result"
    }
   ],
   "source": [
    "a = \"rods\"\n",
    "conn.execute('insert into manual_equipment(id, equipment_name) values(?,?)', (1, a))"
   ]
  },
  {
   "cell_type": "code",
   "execution_count": 4,
   "metadata": {},
   "outputs": [],
   "source": [
    "for row in conn.execute(\"select equipment_name from manual_equipment\"):\n",
    "    print(row)"
   ]
  },
  {
   "cell_type": "code",
   "execution_count": 8,
   "metadata": {
    "scrolled": true
   },
   "outputs": [
    {
     "data": {
      "text/plain": [
       "<sqlite3.Cursor at 0x21556553e30>"
      ]
     },
     "execution_count": 8,
     "metadata": {},
     "output_type": "execute_result"
    }
   ],
   "source": [
    "conn.execute('''DELETE FROM manual_fep WHERE id = ? ''', (1,))"
   ]
  },
  {
   "cell_type": "code",
   "execution_count": 9,
   "metadata": {},
   "outputs": [],
   "source": [
    "conn.commit()"
   ]
  },
  {
   "cell_type": "code",
   "execution_count": 9,
   "metadata": {},
   "outputs": [],
   "source": [
    "conn.close()"
   ]
  }
 ],
 "metadata": {
  "kernelspec": {
   "display_name": "Python 3",
   "language": "python",
   "name": "python3"
  },
  "language_info": {
   "codemirror_mode": {
    "name": "ipython",
    "version": 3
   },
   "file_extension": ".py",
   "mimetype": "text/x-python",
   "name": "python",
   "nbconvert_exporter": "python",
   "pygments_lexer": "ipython3",
   "version": "3.7.3"
  }
 },
 "nbformat": 4,
 "nbformat_minor": 2
}
