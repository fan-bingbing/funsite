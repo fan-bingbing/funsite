{
 "cells": [
  {
   "cell_type": "code",
   "execution_count": 11,
   "metadata": {},
   "outputs": [
    {
     "name": "stdout",
     "output_type": "stream",
     "text": [
      "('TCPIP0::10.0.22.24::inst0::INSTR', 'TCPIP0::10.0.22.100::inst0::INSTR')\n",
      "Hello, I am Rohde&Schwarz,FSV-4,1321.3008K04/101697,2.30 SP1\n",
      "\n",
      "Hello, I am Rohde&Schwarz,SMB100A,1406.6000k02/106409,3.1.19.15-3.20.390.24 \n",
      "\n",
      "['TCPIP0::10.0.22.24::inst0::INSTR', 'TCPIP0::10.0.22.100::inst0::INSTR'] []\n"
     ]
    }
   ],
   "source": [
    "import visa\n",
    "rm = visa.ResourceManager()\n",
    "reading = rm.list_resources()\n",
    "print (reading)\n",
    "list1 =[]; list2 = []\n",
    "for item in reading:\n",
    "    try:\n",
    "        inst = rm.open_resource(item)\n",
    "        id = inst.query(\"*IDN?\")\n",
    "        str = \"Hello, I am \" + id\n",
    "        print(str)\n",
    "        list1.append(item)\n",
    "    except BaseException: \n",
    "        print(f\"{item} is not reachable.\")\n",
    "        list2.append(item)\n",
    "        \n",
    "rm.close()\n",
    "\n",
    "print(list1,list2)\n",
    "    \n",
    "    \n",
    "\n",
    "    \n",
    "\n",
    "# inst = rm.open_resource('GPIB0::12::INSTR')\n",
    "# print(inst.query(\"*IDN?\"))"
   ]
  },
  {
   "cell_type": "code",
   "execution_count": null,
   "metadata": {},
   "outputs": [],
   "source": []
  }
 ],
 "metadata": {
  "kernelspec": {
   "display_name": "Python 3",
   "language": "python",
   "name": "python3"
  },
  "language_info": {
   "codemirror_mode": {
    "name": "ipython",
    "version": 3
   },
   "file_extension": ".py",
   "mimetype": "text/x-python",
   "name": "python",
   "nbconvert_exporter": "python",
   "pygments_lexer": "ipython3",
   "version": "3.7.3"
  }
 },
 "nbformat": 4,
 "nbformat_minor": 2
}
